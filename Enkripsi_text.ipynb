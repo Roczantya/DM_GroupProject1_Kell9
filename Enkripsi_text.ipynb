{
  "nbformat": 4,
  "nbformat_minor": 0,
  "metadata": {
    "colab": {
      "provenance": [],
      "authorship_tag": "ABX9TyPRIy8NUF/RKV6xZctm9Jj/",
      "include_colab_link": true
    },
    "kernelspec": {
      "name": "python3",
      "display_name": "Python 3"
    },
    "language_info": {
      "name": "python"
    }
  },
  "cells": [
    {
      "cell_type": "markdown",
      "metadata": {
        "id": "view-in-github",
        "colab_type": "text"
      },
      "source": [
        "<a href=\"https://colab.research.google.com/github/Roczantya/DM_GroupProject1_Kell9/blob/main/Enkripsi_text.ipynb\" target=\"_parent\"><img src=\"https://colab.research.google.com/assets/colab-badge.svg\" alt=\"Open In Colab\"/></a>"
      ]
    },
    {
      "cell_type": "code",
      "execution_count": 10,
      "metadata": {
        "colab": {
          "base_uri": "https://localhost:8080/"
        },
        "id": "77echihr9oxi",
        "outputId": "5cc8330a-2923-4cdd-d5ca-dac2cf094afc"
      },
      "outputs": [
        {
          "output_type": "stream",
          "name": "stdout",
          "text": [
            "Masukkan secret key: Testa_90\n",
            "Masukkan jumlah kunci biner yang ingin digunakan: 6\n",
            "Masukkan teks yang ingin dienkripsi (atau ketik 'stop' untuk keluar): Hallo pai ya nan\n",
            "Ciphertext: ¦««¨ç·¦®ç¾¦ç©¦©\n",
            "Decrypted Plaintext: Hallo pai ya nan\n",
            "Masukkan teks yang ingin dienkripsi (atau ketik 'stop' untuk keluar): Jaka lama na sangat teh aing turu\n",
            "Ciphertext: ¦¬¦ç«¦ª¦ç©¦ç´¦© ¦³ç³¢¯ç¦®© ç³²µ²\n",
            "Decrypted Plaintext: Jaka lama na sangat teh aing turu\n",
            "Masukkan teks yang ingin dienkripsi (atau ketik 'stop' untuk keluar): Makassar agakne bersih cuman perlu perawatan\n",
            "Ciphertext: ¦¬¦´´¦µç¦ ¦¬©¢ç¥¢µ´®¯ç¤²ª¦©ç·¢µ«²ç·¢µ¦°¦³¦©\n",
            "Decrypted Plaintext: Makassar agakne bersih cuman perlu perawatan\n",
            "Masukkan teks yang ingin dienkripsi (atau ketik 'stop' untuk keluar): stop\n",
            "Program dihentikan.\n"
          ]
        }
      ],
      "source": [
        "import random\n",
        "\n",
        "class XORCryptosystem:\n",
        "    def __init__(self, secret_key, num_keys):\n",
        "        # Menginisialisasi secret_key dan menghasilkan kunci-kunci biner sebanyak num_keys\n",
        "        self.secret_key = secret_key\n",
        "        self.num_keys = num_keys\n",
        "        self.keys = self.generate_keys(secret_key, num_keys)\n",
        "\n",
        "    def generate_keys(self, secret_key, num_keys):\n",
        "        # Menghasilkan num_keys kunci biner berdasarkan secret_key\n",
        "        random.seed(secret_key)  # Menggunakan secret_key sebagai seed\n",
        "        keys = [random.getrandbits(8) for _ in range(num_keys)]  # Menghasilkan kunci sebanyak num_keys\n",
        "        return keys\n",
        "\n",
        "    def encrypt(self, plaintext):\n",
        "        # Mengenkripsi teks (string)\n",
        "        ciphertext = ''\n",
        "        for char in plaintext:\n",
        "            char_code = ord(char)  # Konversi karakter ke nilai ASCII\n",
        "            # Terapkan XOR dengan setiap kunci yang dihasilkan\n",
        "            for key in self.keys:\n",
        "                char_code ^= key\n",
        "            ciphertext += chr(char_code)  # Kembali ke karakter\n",
        "        return ciphertext\n",
        "\n",
        "    def decrypt(self, ciphertext):\n",
        "        # Mendekripsi teks yang sudah dienkripsi\n",
        "        plaintext = ''\n",
        "        for char in ciphertext:\n",
        "            char_code = ord(char)  # Konversi karakter ke nilai ASCII\n",
        "            # Terapkan XOR dengan setiap kunci\n",
        "            for key in self.keys:\n",
        "                char_code ^= key\n",
        "            plaintext += chr(char_code)  # Kembali ke karakter\n",
        "        return plaintext\n",
        "\n",
        "# Menerima input dari pengguna\n",
        "secret_key = input(\"Masukkan secret key: \")  # Input secret key\n",
        "num_keys = int(input(\"Masukkan jumlah kunci biner yang ingin digunakan: \"))  # Input jumlah kunci\n",
        "\n",
        "crypto_system = XORCryptosystem(secret_key, num_keys)\n",
        "\n",
        "# Loop untuk terus meminta input plaintext\n",
        "while True:\n",
        "    plaintext = input(\"Masukkan teks yang ingin dienkripsi (atau ketik 'stop' untuk keluar): \")\n",
        "\n",
        "    if plaintext.lower() == 'stop':\n",
        "        print(\"Program dihentikan.\")\n",
        "        break  # Keluar dari loop jika pengguna mengetik 'stop'\n",
        "\n",
        "    # Mengenkripsi teks\n",
        "    ciphertext = crypto_system.encrypt(plaintext)\n",
        "    print(f\"Ciphertext: {ciphertext}\")\n",
        "\n",
        "    # Mendekripsi teks\n",
        "    decrypted_plaintext = crypto_system.decrypt(ciphertext)\n",
        "    print(f\"Decrypted Plaintext: {decrypted_plaintext}\")\n"
      ]
    },
    {
      "cell_type": "code",
      "source": [],
      "metadata": {
        "id": "EgyGTNFIA1nL"
      },
      "execution_count": null,
      "outputs": []
    }
  ]
}