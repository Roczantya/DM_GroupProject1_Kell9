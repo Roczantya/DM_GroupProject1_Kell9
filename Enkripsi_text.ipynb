{
  "nbformat": 4,
  "nbformat_minor": 0,
  "metadata": {
    "colab": {
      "provenance": [],
      "authorship_tag": "ABX9TyPYiT/TdN1g4Ul46yVNXgyL",
      "include_colab_link": true
    },
    "kernelspec": {
      "name": "python3",
      "display_name": "Python 3"
    },
    "language_info": {
      "name": "python"
    }
  },
  "cells": [
    {
      "cell_type": "markdown",
      "metadata": {
        "id": "view-in-github",
        "colab_type": "text"
      },
      "source": [
        "<a href=\"https://colab.research.google.com/github/Roczantya/DM_GroupProject1_Kell9/blob/main/Enkripsi_text.ipynb\" target=\"_parent\"><img src=\"https://colab.research.google.com/assets/colab-badge.svg\" alt=\"Open In Colab\"/></a>"
      ]
    },
    {
      "cell_type": "code",
      "execution_count": 9,
      "metadata": {
        "colab": {
          "base_uri": "https://localhost:8080/"
        },
        "id": "77echihr9oxi",
        "outputId": "fc4b7157-60f8-4941-9e89-a66ce6236188"
      },
      "outputs": [
        {
          "output_type": "stream",
          "name": "stdout",
          "text": [
            "Masukkan secret key: Hallo_asa\n",
            "Masukkan jumlah kunci biner yang ingin digunakan: 5\n",
            "Masukkan teks yang ingin dienkripsi: Saya tai\n",
            "Ciphertext: 6\u0004\u001c\u0004E\u0011\u0004\f\n",
            "Decrypted Plaintext: Saya tai\n"
          ]
        }
      ],
      "source": [
        "class XORCryptosystem:\n",
        "    def __init__(self, secret_key, num_keys):\n",
        "        # Menginisialisasi secret_key dan menghasilkan kunci-kunci biner sebanyak num_keys\n",
        "        self.secret_key = secret_key\n",
        "        self.num_keys = num_keys\n",
        "        self.keys = self.generate_keys(secret_key, num_keys)\n",
        "\n",
        "    def generate_keys(self, secret_key, num_keys):\n",
        "        # Menghasilkan num_keys kunci biner berdasarkan secret_key\n",
        "        random.seed(secret_key)\n",
        "        keys = [random.getrandbits(8) for _ in range(num_keys)]  # Menghasilkan kunci sebanyak num_keys\n",
        "        return keys\n",
        "\n",
        "    def encrypt(self, plaintext):\n",
        "        # Mengenkripsi teks (string)\n",
        "        ciphertext = ''\n",
        "        for i, char in enumerate(plaintext):\n",
        "            char_code = ord(char)  # Konversi karakter ke nilai ASCII\n",
        "            # Terapkan XOR dengan setiap kunci yang dihasilkan\n",
        "            for key in self.keys:\n",
        "                char_code ^= key\n",
        "            ciphertext += chr(char_code)  # Kembali ke karakter\n",
        "        return ciphertext\n",
        "\n",
        "    def decrypt(self, ciphertext):\n",
        "        # Mendekripsi teks yang sudah dienkripsi\n",
        "        plaintext = ''\n",
        "        for i, char in enumerate(ciphertext):\n",
        "            char_code = ord(char)  # Konversi karakter ke nilai ASCII\n",
        "            # Terapkan XOR dengan setiap kunci\n",
        "            for key in self.keys:\n",
        "                char_code ^= key\n",
        "            plaintext += chr(char_code)  # Kembali ke karakter\n",
        "        return plaintext\n",
        "\n",
        "# Menerima input dari pengguna\n",
        "secret_key = input(\"Masukkan secret key: \")  # Input secret key\n",
        "num_keys = int(input(\"Masukkan jumlah kunci biner yang ingin digunakan: \"))  # Input jumlah kunci\n",
        "\n",
        "crypto_system = XORCryptosystem(secret_key, num_keys)\n",
        "\n",
        "# Menerima input plaintext dari pengguna\n",
        "plaintext = input(\"Masukkan teks yang ingin dienkripsi: \")\n",
        "\n",
        "# Mengenkripsi teks\n",
        "ciphertext = crypto_system.encrypt(plaintext)\n",
        "print(f\"Ciphertext: {ciphertext}\")\n",
        "\n",
        "# Mendekripsi teks\n",
        "decrypted_plaintext = crypto_system.decrypt(ciphertext)\n",
        "print(f\"Decrypted Plaintext: {decrypted_plaintext}\")\n"
      ]
    },
    {
      "cell_type": "code",
      "source": [],
      "metadata": {
        "id": "EgyGTNFIA1nL"
      },
      "execution_count": null,
      "outputs": []
    }
  ]
}