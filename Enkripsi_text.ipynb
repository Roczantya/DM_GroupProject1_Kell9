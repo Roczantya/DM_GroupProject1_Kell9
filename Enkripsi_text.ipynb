{
  "nbformat": 4,
  "nbformat_minor": 0,
  "metadata": {
    "colab": {
      "provenance": [],
      "include_colab_link": true
    },
    "kernelspec": {
      "name": "python3",
      "display_name": "Python 3"
    },
    "language_info": {
      "name": "python"
    }
  },
  "cells": [
    {
      "cell_type": "markdown",
      "metadata": {
        "id": "view-in-github",
        "colab_type": "text"
      },
      "source": [
        "<a href=\"https://colab.research.google.com/github/Roczantya/DM_GroupProject1_Kell9/blob/main/Enkripsi_text.ipynb\" target=\"_parent\"><img src=\"https://colab.research.google.com/assets/colab-badge.svg\" alt=\"Open In Colab\"/></a>"
      ]
    },
    {
      "cell_type": "code",
      "source": [
        "def ascii_to_binary(ascii_value):\n",
        "    return format(ascii_value, '08b')\n",
        "\n",
        "def binary_to_ascii(binary_str):\n",
        "    return int(binary_str, 2)\n",
        "\n",
        "def generate_keys(secret_key):\n",
        "    keys = [ord(char) for char in secret_key]  # Menghasilkan daftar ASCII dari karakter di secret key\n",
        "    return keys[:4]  # Ambil empat kunci dari secret key\n",
        "\n",
        "def encrypt(plaintext, secret_key):\n",
        "    keys = generate_keys(secret_key)\n",
        "    # Konversi plaintext ke ASCII\n",
        "    A = ord(plaintext)\n",
        "    print(f'Plaintext ASCII: {A}, Biner: {ascii_to_binary(A)}')\n",
        "\n",
        "    # Proses enkripsi\n",
        "    C1 = A ^ keys[0]  # XOR dengan B1\n",
        "    C2 = C1 ^ keys[1]  # XOR dengan B2\n",
        "    C3 = C2 ^ keys[2]  # XOR dengan B3\n",
        "    C = C3 ^ keys[3]  # XOR dengan B4\n",
        "\n",
        "    print(f'Hasil Enkripsi (Ciphertext): {C}, Biner: {ascii_to_binary(C)}')\n",
        "    return C\n",
        "\n",
        "def decrypt(ciphertext, secret_key):\n",
        "    keys = generate_keys(secret_key)\n",
        "\n",
        "    # Proses dekripsi\n",
        "    A1 = ciphertext ^ keys[3]  # XOR dengan B4\n",
        "    A2 = A1 ^ keys[2]  # XOR dengan B3\n",
        "    A3 = A2 ^ keys[1]  # XOR dengan B2\n",
        "    A = A3 ^ keys[0]  # XOR dengan B1\n",
        "\n",
        "    print(f'Hasil Dekripsi (Plaintext ASCII): {A}, Biner: {ascii_to_binary(A)}')\n",
        "    return chr(A)  # Kembalikan karakter dari nilai ASCII\n",
        "\n",
        "def cry(text, secret_key, mode='encrypt'):\n",
        "    \"\"\"\n",
        "    Fungsi utama untuk enkripsi dan dekripsi.\n",
        "\n",
        "    :param text: Teks yang akan dienkripsi atau didekripsi\n",
        "    :param secret_key: Kunci rahasia untuk enkripsi dan dekripsi\n",
        "    :param mode: Mode operasi ('encrypt' atau 'decrypt')\n",
        "    :return: Ciphertext atau plaintext yang telah diproses\n",
        "    \"\"\"\n",
        "    if mode == 'encrypt':\n",
        "        return encrypt(text, secret_key)\n",
        "    elif mode == 'decrypt':\n",
        "        return decrypt(text, secret_key)\n",
        "    else:\n",
        "        raise ValueError(\"Mode must be either 'encrypt' or 'decrypt'\")\n",
        "\n",
        "# Main program\n",
        "if __name__ == \"__main__\":\n",
        "    # Meminta input dari pengguna\n",
        "    plaintext = input(\"Masukkan teks yang ingin dienkripsi (1 karakter): \")\n",
        "    secret_key = input(\"Masukkan kunci rahasia (secret key): \")\n",
        "\n",
        "    # Validasi input\n",
        "    if len(plaintext) != 1:\n",
        "        print(\"Teks yang dimasukkan harus 1 karakter.\")\n",
        "    else:\n",
        "        # Enkripsi\n",
        "        ciphertext = cry(plaintext, secret_key, mode='encrypt')\n",
        "\n",
        "        # Dekripsi\n",
        "        decrypted_text = cry(ciphertext, secret_key, mode='decrypt')\n",
        "\n",
        "        print(f'Plaintext setelah dekripsi: {decrypted_text}')\n"
      ],
      "metadata": {
        "colab": {
          "base_uri": "https://localhost:8080/"
        },
        "id": "PMUbQMLB4UxM",
        "outputId": "537d222f-4d2c-4ff6-c265-1331ca8507cf"
      },
      "execution_count": 8,
      "outputs": [
        {
          "output_type": "stream",
          "name": "stdout",
          "text": [
            "Masukkan teks yang ingin dienkripsi (1 karakter): M\n",
            "Masukkan kunci rahasia (secret key): Makassar\n",
            "Plaintext ASCII: 77, Biner: 01001101\n",
            "Hasil Enkripsi (Ciphertext): 107, Biner: 01101011\n",
            "Hasil Dekripsi (Plaintext ASCII): 77, Biner: 01001101\n",
            "Plaintext setelah dekripsi: M\n"
          ]
        }
      ]
    },
    {
      "cell_type": "code",
      "source": [],
      "metadata": {
        "id": "EgyGTNFIA1nL"
      },
      "execution_count": null,
      "outputs": []
    }
  ]
}